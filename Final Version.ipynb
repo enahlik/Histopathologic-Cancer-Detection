{
 "cells": [
  {
   "cell_type": "markdown",
   "id": "daa1f9dd-92be-42ff-8ed4-1268e729f0c8",
   "metadata": {},
   "source": [
    "# CNN Histopathic Cancer Detection\n",
    "\n",
    "## Data Overview"
   ]
  },
  {
   "cell_type": "markdown",
   "id": "9015b06f-8dc0-45ee-8a8a-9027f7d4d40d",
   "metadata": {},
   "source": [
    "The goal of the project is to take the images provided and create a binary classifier that can identify cancer in a 32x32 area of a pathology scan."
   ]
  },
  {
   "cell_type": "code",
   "execution_count": 1,
   "id": "17cbde11-79e4-4865-869e-11f8349cc640",
   "metadata": {},
   "outputs": [],
   "source": [
    "import pandas as pd\n",
    "import numpy as np\n",
    "import torch\n",
    "import torch.nn as nn\n",
    "import torchvision.models as models\n",
    "import matplotlib.pyplot as plt\n",
    "from PIL import Image\n",
    "import os"
   ]
  },
  {
   "cell_type": "markdown",
   "id": "dab1d8c3-6142-45ec-9178-e9733633509d",
   "metadata": {},
   "source": [
    "The training data and lables were stored in a csv file. I iterated through the test data to identify the ids of the images we would be testing. I set the default lable to 0."
   ]
  },
  {
   "cell_type": "code",
   "execution_count": 2,
   "id": "6427fcfb-df79-46ac-abe1-9e3295a3990c",
   "metadata": {},
   "outputs": [
    {
     "name": "stdout",
     "output_type": "stream",
     "text": [
      "                                             id  label\n",
      "0      00006537328c33e284c973d7b39d340809f7271b      0\n",
      "1      0000ec92553fda4ce39889f9226ace43cae3364e      0\n",
      "2      00024a6dee61f12f7856b0fc6be20bc7a48ba3d2      0\n",
      "3      000253dfaa0be9d0d100283b22284ab2f6b643f6      0\n",
      "4      000270442cc15af719583a8172c87cd2bd9c7746      0\n",
      "...                                         ...    ...\n",
      "57453  fffdd1cbb1ac0800f65309f344dd15e9331e1c53      0\n",
      "57454  fffdf4b82ba01f9cae88b9fa45be103344d9f6e3      0\n",
      "57455  fffec7da56b54258038b0d382b3d55010eceb9d7      0\n",
      "57456  ffff276d06a9e3fffc456f2a5a7a3fd1a2d322c6      0\n",
      "57457  ffffeb4c0756098c7f589b7beec08ef1899093b5      0\n",
      "\n",
      "[57458 rows x 2 columns]\n"
     ]
    }
   ],
   "source": [
    "## File Imports\n",
    "dataset_path = './Data/'\n",
    "\n",
    "train_labels = pd.read_csv(os.path.join(dataset_path, 'train_labels.csv'))\n",
    "\n",
    "train_path = dataset_path + 'train/'\n",
    "test_path = dataset_path + 'test/'\n",
    "\n",
    "test_data = pd.DataFrame(os.listdir(test_path), columns=['id'])\n",
    "test_data['id'] = [os.path.splitext(filename)[0] for filename in test_data['id']]\n",
    "test_data['label'] = [0] * len(test_data)\n",
    "print(test_data)"
   ]
  },
  {
   "cell_type": "markdown",
   "id": "763fbd72-5cc4-4dcb-a5ef-af376b75c885",
   "metadata": {},
   "source": [
    "I then verified the size of the training set and that all of the images were present in the training folder"
   ]
  },
  {
   "cell_type": "code",
   "execution_count": 3,
   "id": "e5b6acb0-63d3-40b2-ba51-3c75458db512",
   "metadata": {},
   "outputs": [
    {
     "name": "stdout",
     "output_type": "stream",
     "text": [
      "Training Set\n",
      "label\n",
      "0    130908\n",
      "1     89117\n",
      "Name: count, dtype: int64\n",
      "Null:  id       0\n",
      "label    0\n",
      "dtype: int64\n",
      "Missing images: 0\n",
      "Test Set\n",
      "Images: 57458\n"
     ]
    }
   ],
   "source": [
    "## Data Analysis\n",
    "print(\"Training Set\")\n",
    "print(train_labels['label'].value_counts())\n",
    "print(\"Null: \",train_labels.isnull().sum())\n",
    "\n",
    "missing_images = []\n",
    "for image_name in train_labels['id']:\n",
    "    image_path = train_path + f'{image_name}.tif'\n",
    "    if not os.path.exists(image_path):\n",
    "        missing_images.append(image_name)\n",
    "\n",
    "print(f\"Missing images: {len(missing_images)}\")\n",
    "\n",
    "print(\"Test Set\")\n",
    "print(f\"Images: {len(test_data)}\")"
   ]
  },
  {
   "cell_type": "markdown",
   "id": "14bcfe1f-65ae-4349-8a15-34a29f39566e",
   "metadata": {},
   "source": [
    "I then reduced the images to the 32x32 size that the competition requires"
   ]
  },
  {
   "cell_type": "code",
   "execution_count": 4,
   "id": "7ab7e713-75a6-4ddb-926d-83ae1f336264",
   "metadata": {},
   "outputs": [],
   "source": [
    "from torchvision import transforms\n",
    "\n",
    "# Define preprocessing transformations\n",
    "preprocess = transforms.Compose([\n",
    "    transforms.Resize((32, 32)),\n",
    "    transforms.ToTensor(),  # Convert the image to a tensor and normalize to [0, 1]\n",
    "    transforms.Normalize(mean=[0.5], std=[0.5]),  # Optionally normalize to [-1, 1]\n",
    "])"
   ]
  },
  {
   "cell_type": "markdown",
   "id": "a91f0fcc-0407-4a29-b8ea-028092474bd2",
   "metadata": {},
   "source": [
    "## Training the model\n",
    "\n",
    "I started by creating training and test sets to evaluate the model. Once those were created, I loaded the images into their respective loaders. I then trained the model over 10 epochs."
   ]
  },
  {
   "cell_type": "code",
   "execution_count": 5,
   "id": "d81ca3f5-773b-437d-88c7-dfb5163e9b2a",
   "metadata": {},
   "outputs": [
    {
     "name": "stdout",
     "output_type": "stream",
     "text": [
      "Training set size: 176020\n",
      "Validation set size: 44005\n"
     ]
    }
   ],
   "source": [
    "from sklearn.model_selection import train_test_split\n",
    "\n",
    "# Split the data\n",
    "train_set, val_set = train_test_split(train_labels, test_size=0.2, stratify=train_labels['label'], random_state=42)\n",
    "\n",
    "print(f\"Training set size: {len(train_set)}\")\n",
    "print(f\"Validation set size: {len(val_set)}\")"
   ]
  },
  {
   "cell_type": "code",
   "execution_count": 6,
   "id": "c8fbc427-4dd5-4849-85eb-fc999f898e0e",
   "metadata": {},
   "outputs": [],
   "source": [
    "from torch.utils.data import DataLoader, Dataset\n",
    "from torchvision.io import read_image\n",
    "\n",
    "class CancerDataset(Dataset):\n",
    "    def __init__(self, dataframe, img_dir, transform=None):\n",
    "        self.dataframe = dataframe\n",
    "        self.img_dir = img_dir\n",
    "        self.transform = transform\n",
    "\n",
    "    def __len__(self):\n",
    "        return len(self.dataframe)\n",
    "\n",
    "    def __getitem__(self, idx):\n",
    "        img_name = self.dataframe.iloc[idx, 0]\n",
    "        label = self.dataframe.iloc[idx, 1]\n",
    "        img_path = os.path.join(self.img_dir, f\"{img_name}.tif\")\n",
    "        image = Image.open(img_path)\n",
    "\n",
    "        if self.transform:\n",
    "            image = self.transform(image)\n",
    "\n",
    "        return image, label\n",
    "\n",
    "# Create datasets\n",
    "train_dataset = CancerDataset(train_set, os.path.join(dataset_path, 'train'), transform=preprocess)\n",
    "val_dataset = CancerDataset(val_set, os.path.join(dataset_path, 'train'), transform=preprocess)\n",
    "test_dataset = CancerDataset(test_data, os.path.join(dataset_path, 'test'), transform=preprocess)\n",
    "\n",
    "# Create data loaders\n",
    "train_loader = DataLoader(train_dataset, batch_size=32, shuffle=True)\n",
    "val_loader = DataLoader(val_dataset, batch_size=32, shuffle=False)\n",
    "test_loader = DataLoader(test_dataset, batch_size=32, shuffle=False)"
   ]
  },
  {
   "cell_type": "code",
   "execution_count": 7,
   "id": "8746bee1-1452-435c-95fe-48f2ba14fd9e",
   "metadata": {},
   "outputs": [
    {
     "name": "stderr",
     "output_type": "stream",
     "text": [
      "C:\\Users\\Edward\\anaconda3\\Lib\\site-packages\\torchvision\\models\\_utils.py:208: UserWarning: The parameter 'pretrained' is deprecated since 0.13 and may be removed in the future, please use 'weights' instead.\n",
      "  warnings.warn(\n",
      "C:\\Users\\Edward\\anaconda3\\Lib\\site-packages\\torchvision\\models\\_utils.py:223: UserWarning: Arguments other than a weight enum or `None` for 'weights' are deprecated since 0.13 and may be removed in the future. The current behavior is equivalent to passing `weights=ResNet18_Weights.IMAGENET1K_V1`. You can also use `weights=ResNet18_Weights.DEFAULT` to get the most up-to-date weights.\n",
      "  warnings.warn(msg)\n"
     ]
    }
   ],
   "source": [
    "model = models.resnet18(pretrained=True)\n",
    "\n",
    "# Modify the final fully connected layer to match the number of classes (binary classification)\n",
    "model.fc = nn.Linear(model.fc.in_features, 1)  # Binary classification\n",
    "\n",
    "# Move the model to the GPU if available\n",
    "device = torch.device(\"cuda\" if torch.cuda.is_available() else \"cpu\")\n",
    "model = model.to(device)"
   ]
  },
  {
   "cell_type": "code",
   "execution_count": 8,
   "id": "243a3462-0212-4dc6-8d79-8eae0bdf6e6f",
   "metadata": {},
   "outputs": [],
   "source": [
    "criterion = nn.BCEWithLogitsLoss()  # Combines sigmoid activation with binary cross-entropy\n",
    "optimizer = torch.optim.Adam(model.parameters(), lr=0.001)"
   ]
  },
  {
   "cell_type": "code",
   "execution_count": 9,
   "id": "af8eddfe-9dc5-489b-9eea-ed3a69256aaa",
   "metadata": {},
   "outputs": [
    {
     "name": "stdout",
     "output_type": "stream",
     "text": [
      "Epoch [1/10], Train Loss: 0.3835, Val Loss: 0.3196, Val Accuracy: 0.8623\n",
      "Validation Loss: 0.3196\n",
      "Epoch [2/10], Train Loss: 0.3309, Val Loss: 0.3390, Val Accuracy: 0.8534\n",
      "Validation Loss: 0.3390\n",
      "Epoch [3/10], Train Loss: 0.3146, Val Loss: 0.3251, Val Accuracy: 0.8674\n",
      "Validation Loss: 0.3251\n",
      "Epoch [4/10], Train Loss: 0.2930, Val Loss: 0.4377, Val Accuracy: 0.8870\n",
      "Validation Loss: 0.4377\n",
      "Epoch [5/10], Train Loss: 0.2670, Val Loss: 0.2463, Val Accuracy: 0.9002\n",
      "Validation Loss: 0.2463\n",
      "Epoch [6/10], Train Loss: 0.2483, Val Loss: 0.2654, Val Accuracy: 0.8900\n",
      "Validation Loss: 0.2654\n",
      "Epoch [7/10], Train Loss: 0.2351, Val Loss: 0.6340, Val Accuracy: 0.8632\n",
      "Validation Loss: 0.6340\n",
      "Epoch [8/10], Train Loss: 0.2236, Val Loss: 0.4422, Val Accuracy: 0.8969\n",
      "Validation Loss: 0.4422\n",
      "Epoch [9/10], Train Loss: 0.2130, Val Loss: 0.6268, Val Accuracy: 0.9081\n",
      "Validation Loss: 0.6268\n",
      "Epoch [10/10], Train Loss: 0.1811, Val Loss: 1.2956, Val Accuracy: 0.9040\n",
      "Validation Loss: 1.2956\n"
     ]
    }
   ],
   "source": [
    "train_losses = []\n",
    "val_losses = []\n",
    "val_accuracies = []\n",
    "num_epochs = 10\n",
    "scheduler = torch.optim.lr_scheduler.ReduceLROnPlateau(optimizer, 'min', patience=3, factor=0.5)\n",
    "\n",
    "for epoch in range(num_epochs):\n",
    "    model.train()\n",
    "    running_loss = 0.0\n",
    "\n",
    "    for images, labels in train_loader:\n",
    "        images, labels = images.to(device), labels.to(device, dtype=torch.float)\n",
    "        \n",
    "        # Zero the parameter gradients\n",
    "        optimizer.zero_grad()\n",
    "        \n",
    "        # Forward pass\n",
    "        outputs = model(images)\n",
    "        loss = criterion(outputs.squeeze(), labels)\n",
    "        \n",
    "        # Backward pass and optimization\n",
    "        loss.backward()\n",
    "        optimizer.step()\n",
    "        \n",
    "        running_loss += loss.item()\n",
    "    avg_train_loss = running_loss / len(train_loader)\n",
    "    train_losses.append(avg_train_loss)\n",
    "\n",
    "    # Validate the model\n",
    "    model.eval()\n",
    "    val_loss = 0.0\n",
    "    correct = 0\n",
    "    total = 0\n",
    "    with torch.no_grad():\n",
    "        all_preds = []\n",
    "        all_labels = []\n",
    "        for images, labels in val_loader:\n",
    "            images, labels = images.to(device), labels.to(device, dtype=torch.float)\n",
    "            outputs = model(images)\n",
    "            loss = criterion(outputs.squeeze(), labels)\n",
    "            val_loss += loss.item()\n",
    "            preds = torch.sigmoid(outputs).squeeze() > 0.5\n",
    "            all_preds.extend(preds.cpu().numpy())\n",
    "            all_labels.extend(labels.cpu().numpy())\n",
    "\n",
    "    avg_val_loss = val_loss / len(val_loader)\n",
    "    val_losses.append(avg_val_loss)\n",
    "    val_accuracy = sum(1 for x, y in zip(all_preds, all_labels) if x == y) / len(all_labels)\n",
    "    val_accuracies.append(val_accuracy)\n",
    "    print(f'Epoch [{epoch+1}/{num_epochs}], Train Loss: {avg_train_loss:.4f}, Val Loss: {avg_val_loss:.4f}, Val Accuracy: {val_accuracy:.4f}')\n",
    "    print(f'Validation Loss: {val_loss/len(val_loader):.4f}')\n",
    "    scheduler.step(val_loss)"
   ]
  },
  {
   "cell_type": "code",
   "execution_count": 10,
   "id": "47f923c7-cbf9-4340-9347-57fd9016bf48",
   "metadata": {},
   "outputs": [
    {
     "data": {
      "image/png": "[encoded data removed]",
      "text/plain": [
       "<Figure size 1000x500 with 2 Axes>"
      ]
     },
     "metadata": {},
     "output_type": "display_data"
    }
   ],
   "source": [
    "plt.figure(figsize=(10, 5))\n",
    "plt.subplot(1, 2, 1)\n",
    "plt.plot(train_losses, label='Training Loss')\n",
    "plt.plot(val_losses, label='Validation Loss')\n",
    "plt.title('Loss vs. Epochs')\n",
    "plt.xlabel('Epochs')\n",
    "plt.ylabel('Loss')\n",
    "plt.legend()\n",
    "\n",
    "# Plot the validation accuracy\n",
    "plt.subplot(1, 2, 2)\n",
    "plt.plot(val_accuracies, label='Validation Accuracy')\n",
    "plt.title('Accuracy vs. Epochs')\n",
    "plt.xlabel('Epochs')\n",
    "plt.ylabel('Accuracy')\n",
    "plt.legend()\n",
    "\n",
    "plt.tight_layout()\n",
    "plt.show()"
   ]
  },
  {
   "cell_type": "markdown",
   "id": "a30530a6-ff1e-4313-bbdd-026fd7ed2939",
   "metadata": {},
   "source": [
    "I had previously run this at 12 epochs, and the best mosel seems to fall at 10 epochs. We can see the accuracy of the model begin to plateue a little and the validation loss starts to jump. \n",
    "\n",
    "## Running the test set"
   ]
  },
  {
   "cell_type": "code",
   "execution_count": 11,
   "id": "c50eb766-499c-4814-97b9-8c7f0ecaa154",
   "metadata": {},
   "outputs": [],
   "source": [
    "from sklearn.metrics import accuracy_score, roc_auc_score, confusion_matrix\n",
    "from torchvision import transforms\n",
    "\n",
    "model.eval()\n",
    "all_preds = []\n",
    "name = []\n",
    "val_loss = 0.0\n",
    "\n",
    "with torch.no_grad():\n",
    "        all_preds = []\n",
    "        all_labels = []\n",
    "        for images, labels in test_loader:\n",
    "            images, labels = images.to(device), labels.to(device, dtype=torch.float)\n",
    "            outputs = model(images)\n",
    "            loss = criterion(outputs.squeeze(), labels)\n",
    "            val_loss += loss.item()\n",
    "            preds = torch.sigmoid(outputs).squeeze() > 0.5\n",
    "            all_preds.extend(preds.cpu().numpy())\n",
    "\n",
    "# Convert predictions to binary labels (0 or 1)\n",
    "all_preds = [1 if p > 0.5 else 0 for p in all_preds]\n",
    "test_data['label'] = all_preds\n",
    "\n",
    "test_data.to_csv('submision.csv', index = False)\n"
   ]
  },
  {
   "cell_type": "code",
   "execution_count": 12,
   "id": "8aef2071-2cc9-45a0-a6bc-6dc5c7eb921c",
   "metadata": {},
   "outputs": [
    {
     "name": "stderr",
     "output_type": "stream",
     "text": [
      "C:\\Users\\Edward\\AppData\\Local\\Temp\\ipykernel_20336\\3400278482.py:5: FutureWarning: You are using `torch.load` with `weights_only=False` (the current default value), which uses the default pickle module implicitly. It is possible to construct malicious pickle data which will execute arbitrary code during unpickling (See https://github.com/pytorch/pytorch/blob/main/SECURITY.md#untrusted-models for more details). In a future release, the default value for `weights_only` will be flipped to `True`. This limits the functions that could be executed during unpickling. Arbitrary objects will no longer be allowed to be loaded via this mode unless they are explicitly allowlisted by the user via `torch.serialization.add_safe_globals`. We recommend you start setting `weights_only=True` for any use case where you don't have full control of the loaded file. Please open an issue on GitHub for any issues related to this experimental feature.\n",
      "  model.load_state_dict(torch.load('cancer_detection_model.pth'))\n"
     ]
    },
    {
     "data": {
      "text/plain": [
       "ResNet(\n",
       "  (conv1): Conv2d(3, 64, kernel_size=(7, 7), stride=(2, 2), padding=(3, 3), bias=False)\n",
       "  (bn1): BatchNorm2d(64, eps=1e-05, momentum=0.1, affine=True, track_running_stats=True)\n",
       "  (relu): ReLU(inplace=True)\n",
       "  (maxpool): MaxPool2d(kernel_size=3, stride=2, padding=1, dilation=1, ceil_mode=False)\n",
       "  (layer1): Sequential(\n",
       "    (0): BasicBlock(\n",
       "      (conv1): Conv2d(64, 64, kernel_size=(3, 3), stride=(1, 1), padding=(1, 1), bias=False)\n",
       "      (bn1): BatchNorm2d(64, eps=1e-05, momentum=0.1, affine=True, track_running_stats=True)\n",
       "      (relu): ReLU(inplace=True)\n",
       "      (conv2): Conv2d(64, 64, kernel_size=(3, 3), stride=(1, 1), padding=(1, 1), bias=False)\n",
       "      (bn2): BatchNorm2d(64, eps=1e-05, momentum=0.1, affine=True, track_running_stats=True)\n",
       "    )\n",
       "    (1): BasicBlock(\n",
       "      (conv1): Conv2d(64, 64, kernel_size=(3, 3), stride=(1, 1), padding=(1, 1), bias=False)\n",
       "      (bn1): BatchNorm2d(64, eps=1e-05, momentum=0.1, affine=True, track_running_stats=True)\n",
       "      (relu): ReLU(inplace=True)\n",
       "      (conv2): Conv2d(64, 64, kernel_size=(3, 3), stride=(1, 1), padding=(1, 1), bias=False)\n",
       "      (bn2): BatchNorm2d(64, eps=1e-05, momentum=0.1, affine=True, track_running_stats=True)\n",
       "    )\n",
       "  )\n",
       "  (layer2): Sequential(\n",
       "    (0): BasicBlock(\n",
       "      (conv1): Conv2d(64, 128, kernel_size=(3, 3), stride=(2, 2), padding=(1, 1), bias=False)\n",
       "      (bn1): BatchNorm2d(128, eps=1e-05, momentum=0.1, affine=True, track_running_stats=True)\n",
       "      (relu): ReLU(inplace=True)\n",
       "      (conv2): Conv2d(128, 128, kernel_size=(3, 3), stride=(1, 1), padding=(1, 1), bias=False)\n",
       "      (bn2): BatchNorm2d(128, eps=1e-05, momentum=0.1, affine=True, track_running_stats=True)\n",
       "      (downsample): Sequential(\n",
       "        (0): Conv2d(64, 128, kernel_size=(1, 1), stride=(2, 2), bias=False)\n",
       "        (1): BatchNorm2d(128, eps=1e-05, momentum=0.1, affine=True, track_running_stats=True)\n",
       "      )\n",
       "    )\n",
       "    (1): BasicBlock(\n",
       "      (conv1): Conv2d(128, 128, kernel_size=(3, 3), stride=(1, 1), padding=(1, 1), bias=False)\n",
       "      (bn1): BatchNorm2d(128, eps=1e-05, momentum=0.1, affine=True, track_running_stats=True)\n",
       "      (relu): ReLU(inplace=True)\n",
       "      (conv2): Conv2d(128, 128, kernel_size=(3, 3), stride=(1, 1), padding=(1, 1), bias=False)\n",
       "      (bn2): BatchNorm2d(128, eps=1e-05, momentum=0.1, affine=True, track_running_stats=True)\n",
       "    )\n",
       "  )\n",
       "  (layer3): Sequential(\n",
       "    (0): BasicBlock(\n",
       "      (conv1): Conv2d(128, 256, kernel_size=(3, 3), stride=(2, 2), padding=(1, 1), bias=False)\n",
       "      (bn1): BatchNorm2d(256, eps=1e-05, momentum=0.1, affine=True, track_running_stats=True)\n",
       "      (relu): ReLU(inplace=True)\n",
       "      (conv2): Conv2d(256, 256, kernel_size=(3, 3), stride=(1, 1), padding=(1, 1), bias=False)\n",
       "      (bn2): BatchNorm2d(256, eps=1e-05, momentum=0.1, affine=True, track_running_stats=True)\n",
       "      (downsample): Sequential(\n",
       "        (0): Conv2d(128, 256, kernel_size=(1, 1), stride=(2, 2), bias=False)\n",
       "        (1): BatchNorm2d(256, eps=1e-05, momentum=0.1, affine=True, track_running_stats=True)\n",
       "      )\n",
       "    )\n",
       "    (1): BasicBlock(\n",
       "      (conv1): Conv2d(256, 256, kernel_size=(3, 3), stride=(1, 1), padding=(1, 1), bias=False)\n",
       "      (bn1): BatchNorm2d(256, eps=1e-05, momentum=0.1, affine=True, track_running_stats=True)\n",
       "      (relu): ReLU(inplace=True)\n",
       "      (conv2): Conv2d(256, 256, kernel_size=(3, 3), stride=(1, 1), padding=(1, 1), bias=False)\n",
       "      (bn2): BatchNorm2d(256, eps=1e-05, momentum=0.1, affine=True, track_running_stats=True)\n",
       "    )\n",
       "  )\n",
       "  (layer4): Sequential(\n",
       "    (0): BasicBlock(\n",
       "      (conv1): Conv2d(256, 512, kernel_size=(3, 3), stride=(2, 2), padding=(1, 1), bias=False)\n",
       "      (bn1): BatchNorm2d(512, eps=1e-05, momentum=0.1, affine=True, track_running_stats=True)\n",
       "      (relu): ReLU(inplace=True)\n",
       "      (conv2): Conv2d(512, 512, kernel_size=(3, 3), stride=(1, 1), padding=(1, 1), bias=False)\n",
       "      (bn2): BatchNorm2d(512, eps=1e-05, momentum=0.1, affine=True, track_running_stats=True)\n",
       "      (downsample): Sequential(\n",
       "        (0): Conv2d(256, 512, kernel_size=(1, 1), stride=(2, 2), bias=False)\n",
       "        (1): BatchNorm2d(512, eps=1e-05, momentum=0.1, affine=True, track_running_stats=True)\n",
       "      )\n",
       "    )\n",
       "    (1): BasicBlock(\n",
       "      (conv1): Conv2d(512, 512, kernel_size=(3, 3), stride=(1, 1), padding=(1, 1), bias=False)\n",
       "      (bn1): BatchNorm2d(512, eps=1e-05, momentum=0.1, affine=True, track_running_stats=True)\n",
       "      (relu): ReLU(inplace=True)\n",
       "      (conv2): Conv2d(512, 512, kernel_size=(3, 3), stride=(1, 1), padding=(1, 1), bias=False)\n",
       "      (bn2): BatchNorm2d(512, eps=1e-05, momentum=0.1, affine=True, track_running_stats=True)\n",
       "    )\n",
       "  )\n",
       "  (avgpool): AdaptiveAvgPool2d(output_size=(1, 1))\n",
       "  (fc): Linear(in_features=512, out_features=1, bias=True)\n",
       ")"
      ]
     },
     "execution_count": 12,
     "metadata": {},
     "output_type": "execute_result"
    }
   ],
   "source": [
    "# Save the model\n",
    "torch.save(model.state_dict(), 'cancer_detection_model.pth')\n",
    "\n",
    "# Load the model (for later use)\n",
    "model.load_state_dict(torch.load('cancer_detection_model.pth'))\n",
    "model.eval()"
   ]
  },
  {
   "cell_type": "code",
   "execution_count": null,
   "id": "736a4fd8-230d-42e8-b069-b4fe6904b728",
   "metadata": {},
   "outputs": [],
   "source": []
  }
 ],
 "metadata": {
  "kernelspec": {
   "display_name": "Python 3 (ipykernel)",
   "language": "python",
   "name": "python3"
  },
  "language_info": {
   "codemirror_mode": {
    "name": "ipython",
    "version": 3
   },
   "file_extension": ".py",
   "mimetype": "text/x-python",
   "name": "python",
   "nbconvert_exporter": "python",
   "pygments_lexer": "ipython3",
   "version": "3.11.5"
  }
 },
 "nbformat": 4,
 "nbformat_minor": 5
}
